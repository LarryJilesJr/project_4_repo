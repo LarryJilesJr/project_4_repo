{
 "cells": [
  {
   "cell_type": "code",
   "execution_count": 1,
   "metadata": {},
   "outputs": [],
   "source": [
    "import pandas as pd"
   ]
  },
  {
   "cell_type": "code",
   "execution_count": 2,
   "metadata": {},
   "outputs": [],
   "source": [
    "#Load CSV File into Pandas DataFrame\n",
    "df = pd.read_csv('Resources/heart_2022_no_nans.csv')"
   ]
  },
  {
   "cell_type": "code",
   "execution_count": 3,
   "metadata": {},
   "outputs": [],
   "source": [
    "#Process Data to Obtain State Counts\n",
    "state_counts = df['State'].value_counts().reset_index()\n",
    "state_counts.columns = ['State', 'Count']"
   ]
  },
  {
   "cell_type": "code",
   "execution_count": 5,
   "metadata": {},
   "outputs": [
    {
     "name": "stdout",
     "output_type": "stream",
     "text": [
      "[{\"State\":\"Washington\",\"Count\":15000},{\"State\":\"Maryland\",\"Count\":9165},{\"State\":\"Minnesota\",\"Count\":9161},{\"State\":\"Ohio\",\"Count\":8995},{\"State\":\"New York\",\"Count\":8923},{\"State\":\"Texas\",\"Count\":7408},{\"State\":\"Florida\",\"Count\":7315},{\"State\":\"Kansas\",\"Count\":6145},{\"State\":\"Wisconsin\",\"Count\":6126},{\"State\":\"Maine\",\"Count\":6013},{\"State\":\"Iowa\",\"Count\":5672},{\"State\":\"Hawaii\",\"Count\":5596},{\"State\":\"Virginia\",\"Count\":5565},{\"State\":\"Indiana\",\"Count\":5502},{\"State\":\"South Carolina\",\"Count\":5471},{\"State\":\"Massachusetts\",\"Count\":5465},{\"State\":\"Arizona\",\"Count\":5462},{\"State\":\"Utah\",\"Count\":5373},{\"State\":\"Michigan\",\"Count\":5370},{\"State\":\"Colorado\",\"Count\":5159},{\"State\":\"Nebraska\",\"Count\":5107},{\"State\":\"California\",\"Count\":5096},{\"State\":\"Connecticut\",\"Count\":5053},{\"State\":\"Georgia\",\"Count\":4978},{\"State\":\"Vermont\",\"Count\":4845},{\"State\":\"South Dakota\",\"Count\":4405},{\"State\":\"Montana\",\"Count\":4264},{\"State\":\"Missouri\",\"Count\":4195},{\"State\":\"New Jersey\",\"Count\":3967},{\"State\":\"New Hampshire\",\"Count\":3756},{\"State\":\"Puerto Rico\",\"Count\":3589},{\"State\":\"Idaho\",\"Count\":3468},{\"State\":\"Alaska\",\"Count\":3205},{\"State\":\"Rhode Island\",\"Count\":3112},{\"State\":\"Oregon\",\"Count\":3049},{\"State\":\"Louisiana\",\"Count\":3010},{\"State\":\"West Virginia\",\"Count\":2974},{\"State\":\"New Mexico\",\"Count\":2968},{\"State\":\"Oklahoma\",\"Count\":2941},{\"State\":\"Arkansas\",\"Count\":2940},{\"State\":\"Pennsylvania\",\"Count\":2729},{\"State\":\"Tennessee\",\"Count\":2725},{\"State\":\"Illinois\",\"Count\":2607},{\"State\":\"North Carolina\",\"Count\":2551},{\"State\":\"North Dakota\",\"Count\":2498},{\"State\":\"Mississippi\",\"Count\":2438},{\"State\":\"Kentucky\",\"Count\":2413},{\"State\":\"Wyoming\",\"Count\":2410},{\"State\":\"Delaware\",\"Count\":2155},{\"State\":\"Alabama\",\"Count\":1902},{\"State\":\"Nevada\",\"Count\":1769},{\"State\":\"District of Columbia\",\"Count\":1725},{\"State\":\"Guam\",\"Count\":1549},{\"State\":\"Virgin Islands\",\"Count\":743}]\n"
     ]
    }
   ],
   "source": [
    "#Convert to JavaScript Object (JSON)\n",
    "state_counts_json = state_counts.to_json(orient='records')\n",
    "print(state_counts_json)"
   ]
  }
 ],
 "metadata": {
  "kernelspec": {
   "display_name": "dev",
   "language": "python",
   "name": "python3"
  },
  "language_info": {
   "codemirror_mode": {
    "name": "ipython",
    "version": 3
   },
   "file_extension": ".py",
   "mimetype": "text/x-python",
   "name": "python",
   "nbconvert_exporter": "python",
   "pygments_lexer": "ipython3",
   "version": "3.10.13"
  }
 },
 "nbformat": 4,
 "nbformat_minor": 2
}
